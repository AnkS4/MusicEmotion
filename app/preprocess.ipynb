{
 "cells": [
  {
   "cell_type": "code",
   "execution_count": 1,
   "id": "331c81a8-8d97-40a3-94ae-b029a75785fd",
   "metadata": {},
   "outputs": [],
   "source": [
    "# pip install librosa"
   ]
  },
  {
   "cell_type": "code",
   "execution_count": 2,
   "id": "a7a0c0cc-19fb-4a32-bdf1-b3599a59e5d0",
   "metadata": {},
   "outputs": [],
   "source": [
    "import librosa\n",
    "import soundfile as sf\n",
    "import numpy as np"
   ]
  },
  {
   "cell_type": "code",
   "execution_count": 4,
   "id": "72789328-ab0a-44c2-93f1-991339c48d71",
   "metadata": {},
   "outputs": [
    {
     "name": "stdout",
     "output_type": "stream",
     "text": [
      "../data/33796__yewbic__ambience03.wav\n",
      "samplerate: 44100 Hz\n",
      "channels: 2\n",
      "duration: 43.254 s\n",
      "format: WAV (Microsoft) [WAV]\n",
      "subtype: Signed 16 bit PCM [PCM_16]\n"
     ]
    }
   ],
   "source": [
    "sample_file = \"../data/33796__yewbic__ambience03.wav\"\n",
    "\n",
    "info = sf.info(sample_file)\n",
    "print(info)"
   ]
  },
  {
   "cell_type": "code",
   "execution_count": 5,
   "id": "e900a375-cefe-4d91-99a9-3148c829760c",
   "metadata": {},
   "outputs": [
    {
     "ename": "TypeError",
     "evalue": "too many positional arguments",
     "output_type": "error",
     "traceback": [
      "\u001b[0;31m---------------------------------------------------------------------------\u001b[0m",
      "\u001b[0;31mTypeError\u001b[0m                                 Traceback (most recent call last)",
      "Cell \u001b[0;32mIn[5], line 5\u001b[0m\n\u001b[1;32m      1\u001b[0m y, sr \u001b[38;5;241m=\u001b[39m librosa\u001b[38;5;241m.\u001b[39mload(sample_file, sr\u001b[38;5;241m=\u001b[39m\u001b[38;5;241m44100\u001b[39m, mono\u001b[38;5;241m=\u001b[39m\u001b[38;5;28;01mTrue\u001b[39;00m)\n\u001b[1;32m      3\u001b[0m \u001b[38;5;66;03m# Check basic audio features from an audio file.\u001b[39;00m\n\u001b[1;32m      4\u001b[0m features \u001b[38;5;241m=\u001b[39m {\n\u001b[0;32m----> 5\u001b[0m             \u001b[38;5;124m\"\u001b[39m\u001b[38;5;124mtempo\u001b[39m\u001b[38;5;124m\"\u001b[39m: librosa\u001b[38;5;241m.\u001b[39mbeat\u001b[38;5;241m.\u001b[39mtempo(y, sr\u001b[38;5;241m=\u001b[39msr)[\u001b[38;5;241m0\u001b[39m],  \u001b[38;5;66;03m# Tempo\u001b[39;00m\n\u001b[1;32m      6\u001b[0m             \u001b[38;5;124m\"\u001b[39m\u001b[38;5;124menergy\u001b[39m\u001b[38;5;124m\"\u001b[39m: np\u001b[38;5;241m.\u001b[39msum(np\u001b[38;5;241m.\u001b[39msquare(y)) \u001b[38;5;241m/\u001b[39m \u001b[38;5;28mlen\u001b[39m(y),   \u001b[38;5;66;03m# Energy\u001b[39;00m\n\u001b[1;32m      7\u001b[0m             \u001b[38;5;124m\"\u001b[39m\u001b[38;5;124mspectral_centroid\u001b[39m\u001b[38;5;124m\"\u001b[39m: np\u001b[38;5;241m.\u001b[39mmean(librosa\u001b[38;5;241m.\u001b[39mfeature\u001b[38;5;241m.\u001b[39mspectral_centroid(y\u001b[38;5;241m=\u001b[39my, sr\u001b[38;5;241m=\u001b[39msr)),  \u001b[38;5;66;03m# Spectral Centroid\u001b[39;00m\n\u001b[1;32m      8\u001b[0m             \u001b[38;5;124m\"\u001b[39m\u001b[38;5;124mspectral_rolloff\u001b[39m\u001b[38;5;124m\"\u001b[39m: np\u001b[38;5;241m.\u001b[39mmean(librosa\u001b[38;5;241m.\u001b[39mfeature\u001b[38;5;241m.\u001b[39mspectral_rolloff(y\u001b[38;5;241m=\u001b[39my, sr\u001b[38;5;241m=\u001b[39msr)),    \u001b[38;5;66;03m# Spectral Rolloff\u001b[39;00m\n\u001b[1;32m      9\u001b[0m             \u001b[38;5;124m\"\u001b[39m\u001b[38;5;124mzero_crossing_rate\u001b[39m\u001b[38;5;124m\"\u001b[39m: np\u001b[38;5;241m.\u001b[39mmean(librosa\u001b[38;5;241m.\u001b[39mfeature\u001b[38;5;241m.\u001b[39mzero_crossing_rate(y)),         \u001b[38;5;66;03m# Zero Crossing Rate\u001b[39;00m\n\u001b[1;32m     10\u001b[0m         }\n",
      "File \u001b[0;32m~/miniconda3/envs/default/lib/python3.11/site-packages/decorator.py:231\u001b[0m, in \u001b[0;36mdecorate.<locals>.fun\u001b[0;34m(*args, **kw)\u001b[0m\n\u001b[1;32m    229\u001b[0m \u001b[38;5;28;01mdef\u001b[39;00m \u001b[38;5;21mfun\u001b[39m(\u001b[38;5;241m*\u001b[39margs, \u001b[38;5;241m*\u001b[39m\u001b[38;5;241m*\u001b[39mkw):\n\u001b[1;32m    230\u001b[0m     \u001b[38;5;28;01mif\u001b[39;00m \u001b[38;5;129;01mnot\u001b[39;00m kwsyntax:\n\u001b[0;32m--> 231\u001b[0m         args, kw \u001b[38;5;241m=\u001b[39m fix(args, kw, sig)\n\u001b[1;32m    232\u001b[0m     \u001b[38;5;28;01mreturn\u001b[39;00m caller(func, \u001b[38;5;241m*\u001b[39m(extras \u001b[38;5;241m+\u001b[39m args), \u001b[38;5;241m*\u001b[39m\u001b[38;5;241m*\u001b[39mkw)\n",
      "File \u001b[0;32m~/miniconda3/envs/default/lib/python3.11/site-packages/decorator.py:203\u001b[0m, in \u001b[0;36mfix\u001b[0;34m(args, kwargs, sig)\u001b[0m\n\u001b[1;32m    199\u001b[0m \u001b[38;5;28;01mdef\u001b[39;00m \u001b[38;5;21mfix\u001b[39m(args, kwargs, sig):\n\u001b[1;32m    200\u001b[0m \u001b[38;5;250m    \u001b[39m\u001b[38;5;124;03m\"\"\"\u001b[39;00m\n\u001b[1;32m    201\u001b[0m \u001b[38;5;124;03m    Fix args and kwargs to be consistent with the signature\u001b[39;00m\n\u001b[1;32m    202\u001b[0m \u001b[38;5;124;03m    \"\"\"\u001b[39;00m\n\u001b[0;32m--> 203\u001b[0m     ba \u001b[38;5;241m=\u001b[39m sig\u001b[38;5;241m.\u001b[39mbind(\u001b[38;5;241m*\u001b[39margs, \u001b[38;5;241m*\u001b[39m\u001b[38;5;241m*\u001b[39mkwargs)\n\u001b[1;32m    204\u001b[0m     ba\u001b[38;5;241m.\u001b[39mapply_defaults()  \u001b[38;5;66;03m# needed for test_dan_schult\u001b[39;00m\n\u001b[1;32m    205\u001b[0m     \u001b[38;5;28;01mreturn\u001b[39;00m ba\u001b[38;5;241m.\u001b[39margs, ba\u001b[38;5;241m.\u001b[39mkwargs\n",
      "File \u001b[0;32m~/miniconda3/envs/default/lib/python3.11/inspect.py:3195\u001b[0m, in \u001b[0;36mSignature.bind\u001b[0;34m(self, *args, **kwargs)\u001b[0m\n\u001b[1;32m   3190\u001b[0m \u001b[38;5;28;01mdef\u001b[39;00m \u001b[38;5;21mbind\u001b[39m(\u001b[38;5;28mself\u001b[39m, \u001b[38;5;241m/\u001b[39m, \u001b[38;5;241m*\u001b[39margs, \u001b[38;5;241m*\u001b[39m\u001b[38;5;241m*\u001b[39mkwargs):\n\u001b[1;32m   3191\u001b[0m \u001b[38;5;250m    \u001b[39m\u001b[38;5;124;03m\"\"\"Get a BoundArguments object, that maps the passed `args`\u001b[39;00m\n\u001b[1;32m   3192\u001b[0m \u001b[38;5;124;03m    and `kwargs` to the function's signature.  Raises `TypeError`\u001b[39;00m\n\u001b[1;32m   3193\u001b[0m \u001b[38;5;124;03m    if the passed arguments can not be bound.\u001b[39;00m\n\u001b[1;32m   3194\u001b[0m \u001b[38;5;124;03m    \"\"\"\u001b[39;00m\n\u001b[0;32m-> 3195\u001b[0m     \u001b[38;5;28;01mreturn\u001b[39;00m \u001b[38;5;28mself\u001b[39m\u001b[38;5;241m.\u001b[39m_bind(args, kwargs)\n",
      "File \u001b[0;32m~/miniconda3/envs/default/lib/python3.11/inspect.py:3121\u001b[0m, in \u001b[0;36mSignature._bind\u001b[0;34m(self, args, kwargs, partial)\u001b[0m\n\u001b[1;32m   3117\u001b[0m \u001b[38;5;28;01melse\u001b[39;00m:\n\u001b[1;32m   3118\u001b[0m     \u001b[38;5;28;01mif\u001b[39;00m param\u001b[38;5;241m.\u001b[39mkind \u001b[38;5;129;01min\u001b[39;00m (_VAR_KEYWORD, _KEYWORD_ONLY):\n\u001b[1;32m   3119\u001b[0m         \u001b[38;5;66;03m# Looks like we have no parameter for this positional\u001b[39;00m\n\u001b[1;32m   3120\u001b[0m         \u001b[38;5;66;03m# argument\u001b[39;00m\n\u001b[0;32m-> 3121\u001b[0m         \u001b[38;5;28;01mraise\u001b[39;00m \u001b[38;5;167;01mTypeError\u001b[39;00m(\n\u001b[1;32m   3122\u001b[0m             \u001b[38;5;124m'\u001b[39m\u001b[38;5;124mtoo many positional arguments\u001b[39m\u001b[38;5;124m'\u001b[39m) \u001b[38;5;28;01mfrom\u001b[39;00m \u001b[38;5;28;01mNone\u001b[39;00m\n\u001b[1;32m   3124\u001b[0m     \u001b[38;5;28;01mif\u001b[39;00m param\u001b[38;5;241m.\u001b[39mkind \u001b[38;5;241m==\u001b[39m _VAR_POSITIONAL:\n\u001b[1;32m   3125\u001b[0m         \u001b[38;5;66;03m# We have an '*args'-like argument, let's fill it with\u001b[39;00m\n\u001b[1;32m   3126\u001b[0m         \u001b[38;5;66;03m# all positional arguments we have left and move on to\u001b[39;00m\n\u001b[1;32m   3127\u001b[0m         \u001b[38;5;66;03m# the next phase\u001b[39;00m\n\u001b[1;32m   3128\u001b[0m         values \u001b[38;5;241m=\u001b[39m [arg_val]\n",
      "\u001b[0;31mTypeError\u001b[0m: too many positional arguments"
     ]
    }
   ],
   "source": [
    "y, sr = librosa.load(sample_file, sr=44100, mono=True)\n",
    "\n",
    "# Check basic audio features from an audio file.\n",
    "features = {\n",
    "            \"tempo\": librosa.beat.tempo(y, sr=sr)[0],  # Tempo\n",
    "            \"energy\": np.sum(np.square(y)) / len(y),   # Energy\n",
    "            \"spectral_centroid\": np.mean(librosa.feature.spectral_centroid(y=y, sr=sr)),  # Spectral Centroid\n",
    "            \"spectral_rolloff\": np.mean(librosa.feature.spectral_rolloff(y=y, sr=sr)),    # Spectral Rolloff\n",
    "            \"zero_crossing_rate\": np.mean(librosa.feature.zero_crossing_rate(y)),         # Zero Crossing Rate\n",
    "        }\n",
    "\n"
   ]
  },
  {
   "cell_type": "code",
   "execution_count": 6,
   "id": "5d50a67b-4034-4b4d-91f7-3ad0981b6de3",
   "metadata": {},
   "outputs": [
    {
     "name": "stdout",
     "output_type": "stream",
     "text": [
      "Error calculating tempo: too many positional arguments\n",
      "Extracted Features: {'tempo': None, 'energy': 0.011575209602339926, 'spectral_centroid': 927.438716318569, 'spectral_rolloff': 1756.2101354921497, 'zero_crossing_rate': 0.01730436774523618}\n"
     ]
    }
   ],
   "source": [
    "# Extract features\n",
    "features = {}\n",
    "try:\n",
    "    features[\"tempo\"] = librosa.beat.tempo(y, sr=sr)[0]  # Tempo\n",
    "except Exception as e:\n",
    "    features[\"tempo\"] = None\n",
    "    print(f\"Error calculating tempo: {e}\")\n",
    "\n",
    "try:\n",
    "    features[\"energy\"] = np.sum(np.square(y)) / len(y)  # Energy\n",
    "except Exception as e:\n",
    "    features[\"energy\"] = None\n",
    "    print(f\"Error calculating energy: {e}\")\n",
    "\n",
    "try:\n",
    "    features[\"spectral_centroid\"] = np.mean(librosa.feature.spectral_centroid(y=y, sr=sr))  # Spectral Centroid\n",
    "except Exception as e:\n",
    "    features[\"spectral_centroid\"] = None\n",
    "    print(f\"Error calculating spectral centroid: {e}\")\n",
    "\n",
    "try:\n",
    "    features[\"spectral_rolloff\"] = np.mean(librosa.feature.spectral_rolloff(y=y, sr=sr))  # Spectral Rolloff\n",
    "except Exception as e:\n",
    "    features[\"spectral_rolloff\"] = None\n",
    "    print(f\"Error calculating spectral rolloff: {e}\")\n",
    "\n",
    "try:\n",
    "    features[\"zero_crossing_rate\"] = np.mean(librosa.feature.zero_crossing_rate(y))  # Zero Crossing Rate\n",
    "except Exception as e:\n",
    "    features[\"zero_crossing_rate\"] = None\n",
    "    print(f\"Error calculating zero crossing rate: {e}\")\n",
    "\n",
    "print(\"Extracted Features:\", features)"
   ]
  }
 ],
 "metadata": {
  "kernelspec": {
   "display_name": "Python 3 (ipykernel)",
   "language": "python",
   "name": "python3"
  },
  "language_info": {
   "codemirror_mode": {
    "name": "ipython",
    "version": 3
   },
   "file_extension": ".py",
   "mimetype": "text/x-python",
   "name": "python",
   "nbconvert_exporter": "python",
   "pygments_lexer": "ipython3",
   "version": "3.11.9"
  }
 },
 "nbformat": 4,
 "nbformat_minor": 5
}
