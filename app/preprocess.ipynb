{
 "cells": [
  {
   "cell_type": "code",
   "execution_count": 1,
   "id": "a7a0c0cc-19fb-4a32-bdf1-b3599a59e5d0",
   "metadata": {},
   "outputs": [],
   "source": [
    "from librosa import load\n",
    "from librosa.onset import onset_strength\n",
    "from librosa.feature import rhythm, spectral_centroid, spectral_rolloff, zero_crossing_rate\n",
    "import soundfile as sf\n",
    "import numpy as np"
   ]
  },
  {
   "cell_type": "code",
   "execution_count": 2,
   "id": "72789328-ab0a-44c2-93f1-991339c48d71",
   "metadata": {},
   "outputs": [
    {
     "name": "stdout",
     "output_type": "stream",
     "text": [
      "../data/33796__yewbic__ambience03.wav\n",
      "samplerate: 44100 Hz\n",
      "channels: 2\n",
      "duration: 43.254 s\n",
      "format: WAV (Microsoft) [WAV]\n",
      "subtype: Signed 16 bit PCM [PCM_16]\n"
     ]
    }
   ],
   "source": [
    "sample_file = \"../data/33796__yewbic__ambience03.wav\"\n",
    "\n",
    "info = sf.info(sample_file)\n",
    "print(info)"
   ]
  },
  {
   "cell_type": "code",
   "execution_count": 3,
   "id": "e900a375-cefe-4d91-99a9-3148c829760c",
   "metadata": {},
   "outputs": [],
   "source": [
    "y, sr = load(sample_file, sr=44100, mono=True)"
   ]
  },
  {
   "cell_type": "code",
   "execution_count": 4,
   "id": "5d50a67b-4034-4b4d-91f7-3ad0981b6de3",
   "metadata": {},
   "outputs": [
    {
     "name": "stdout",
     "output_type": "stream",
     "text": [
      "Extracted Features: {'tempo': 120.18531976744185, 'energy': 0.011575209602339926, 'spectral_centroid': 927.438716318569, 'spectral_rolloff': 1756.2101354921497, 'zero_crossing_rate': 0.01730436774523618}\n"
     ]
    }
   ],
   "source": [
    "# Define feature extraction functions and their arguments\n",
    "feature_extractors = {\n",
    "    \"tempo\": lambda y, sr: rhythm.tempo(onset_envelope=onset_strength(y=y, sr=sr), sr=sr)[0],\n",
    "    \"energy\": lambda y, sr: np.sum(np.square(y)) / len(y),\n",
    "    \"spectral_centroid\": lambda y, sr: np.mean(spectral_centroid(y=y, sr=sr)),\n",
    "    \"spectral_rolloff\": lambda y, sr: np.mean(spectral_rolloff(y=y, sr=sr)),\n",
    "    \"zero_crossing_rate\": lambda y, sr: np.mean(zero_crossing_rate(y)),\n",
    "}\n",
    "\n",
    "# Extract features\n",
    "features = {}\n",
    "for feature_name, extractor in feature_extractors.items():\n",
    "    try:\n",
    "        features[feature_name] = extractor(y, sr)\n",
    "    except Exception as e:\n",
    "        features[feature_name] = None\n",
    "        print(f\"Error calculating {feature_name}: {e}\")\n",
    "\n",
    "print(\"Extracted Features:\", features)"
   ]
  }
 ],
 "metadata": {
  "kernelspec": {
   "display_name": "Python 3 (ipykernel)",
   "language": "python",
   "name": "python3"
  },
  "language_info": {
   "codemirror_mode": {
    "name": "ipython",
    "version": 3
   },
   "file_extension": ".py",
   "mimetype": "text/x-python",
   "name": "python",
   "nbconvert_exporter": "python",
   "pygments_lexer": "ipython3",
   "version": "3.11.9"
  }
 },
 "nbformat": 4,
 "nbformat_minor": 5
}
